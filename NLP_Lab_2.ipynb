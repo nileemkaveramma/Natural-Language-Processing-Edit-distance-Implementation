{
  "nbformat": 4,
  "nbformat_minor": 0,
  "metadata": {
    "colab": {
      "provenance": []
    },
    "kernelspec": {
      "name": "python3",
      "display_name": "Python 3"
    },
    "language_info": {
      "name": "python"
    }
  },
  "cells": [
    {
      "cell_type": "markdown",
      "source": [
        "Name : Nileem Kaveramma C C | Register no : 2348441"
      ],
      "metadata": {
        "id": "hEssPziVsDQ1"
      }
    },
    {
      "cell_type": "markdown",
      "source": [
        "**QUESTION:**\n",
        "\n",
        "Compute the edit distance (using insertion cost 1, deletion cost 1, substitution cost 1) of “leda” to “deal”.\n",
        "Prepare an edit distance grid to complete your work."
      ],
      "metadata": {
        "id": "Q06VkQiev6W5"
      }
    },
    {
      "cell_type": "code",
      "execution_count": null,
      "metadata": {
        "colab": {
          "base_uri": "https://localhost:8080/"
        },
        "id": "9156p7nGve6c",
        "outputId": "a389881e-9487-470a-fdc0-cc808a0b8ffe"
      },
      "outputs": [
        {
          "output_type": "stream",
          "name": "stdout",
          "text": [
            "[0, 1, 2, 3, 4]\n",
            "[1, 1, 2, 3, 3]\n",
            "[2, 2, 1, 2, 3]\n",
            "[3, 2, 2, 2, 3]\n",
            "[4, 3, 3, 2, 3]\n",
            "\n",
            "Edit distance between 'leda' and 'deal' is: 3\n"
          ]
        }
      ],
      "source": [
        "def edit_distance(str1, str2):\n",
        "    m, n = len(str1), len(str2)\n",
        "    # Create a distance matrix and initialize it\n",
        "    dp = [[0] * (n + 1) for _ in range(m + 1)]\n",
        "\n",
        "    # Initialize the base cases\n",
        "    for i in range(m + 1):\n",
        "        dp[i][0] = i\n",
        "    for j in range(n + 1):\n",
        "        dp[0][j] = j\n",
        "\n",
        "    # Fill the distance matrix\n",
        "    for i in range(1, m + 1):\n",
        "        for j in range(1, n + 1):\n",
        "            if str1[i - 1] == str2[j - 1]:\n",
        "                dp[i][j] = dp[i - 1][j - 1]\n",
        "            else:\n",
        "                dp[i][j] = 1 + min(dp[i - 1][j],      # Deletion\n",
        "                                   dp[i][j - 1],      # Insertion\n",
        "                                   dp[i - 1][j - 1])  # Substitution\n",
        "\n",
        "    return dp\n",
        "\n",
        "# Words to compute edit distance between\n",
        "str1 = \"leda\"\n",
        "str2 = \"deal\"\n",
        "\n",
        "# Compute the edit distance grid\n",
        "edit_distance_grid = edit_distance(str1, str2)\n",
        "\n",
        "# Print the edit distance grid\n",
        "for row in edit_distance_grid:\n",
        "    print(row)\n",
        "\n",
        "# The edit distance is the value in the bottom-right corner of the grid\n",
        "edit_distance_value = edit_distance_grid[len(str1)][len(str2)]\n",
        "print(f\"\\nEdit distance between '{str1}' and '{str2}' is: {edit_distance_value}\")\n"
      ]
    },
    {
      "cell_type": "markdown",
      "source": [
        "* The distance matrix dp is created with dimensions (5 x 5) since the lengths of str1 and str2 are both 4.\n",
        "* The first row and first column of the matrix are initialized to represent the cost of transforming an empty string to the target string by inserting characters. For example:\n",
        "dp[0][1] = 1, dp[0][2] = 2, dp[0][3] = 3, dp[0][4] = 4\n",
        "dp[1][0] = 1, dp[2][0] = 2, dp[3][0] = 3, dp[4][0] = 4\n",
        "* The edit distance between the two strings \"leda\" and \"deal\" is found at dp[4][4], which is 3.\n",
        "* This value indicates that a minimum of 3 operations are required to transform \"leda\" into \"deal\"."
      ],
      "metadata": {
        "id": "61xTGvHT8ejd"
      }
    },
    {
      "cell_type": "markdown",
      "source": [
        "**QUESTION:**\n",
        "\n",
        "Figure out whether the “drive” is closer to “brief” or to “divers” and what the edit distance is to each. You\n",
        "may use any version of distance that you like."
      ],
      "metadata": {
        "id": "jAFk5dT3wSXx"
      }
    },
    {
      "cell_type": "code",
      "source": [
        "def edit_distance(str1, str2):\n",
        "    m, n = len(str1), len(str2)\n",
        "    # Create a distance matrix and initialize it\n",
        "    dp = [[0] * (n + 1) for _ in range(m + 1)]\n",
        "\n",
        "    # Initialize the base cases\n",
        "    for i in range(m + 1):\n",
        "        dp[i][0] = i\n",
        "    for j in range(n + 1):\n",
        "        dp[0][j] = j\n",
        "\n",
        "    # Fill the distance matrix\n",
        "    for i in range(1, m + 1):\n",
        "        for j in range(1, n + 1):\n",
        "            if str1[i - 1] == str2[j - 1]:\n",
        "                dp[i][j] = dp[i - 1][j - 1]\n",
        "            else:\n",
        "                dp[i][j] = 1 + min(dp[i - 1][j],      # Deletion\n",
        "                                   dp[i][j - 1],      # Insertion\n",
        "                                   dp[i - 1][j - 1])  # Substitution\n",
        "\n",
        "    return dp[m][n]\n",
        "\n",
        "# Words to compare\n",
        "word1 = \"drive\"\n",
        "word2 = \"brief\"\n",
        "word3 = \"divers\"\n",
        "\n",
        "# Calculate edit distances\n",
        "distance_to_word2 = edit_distance(word1, word2)\n",
        "distance_to_word3 = edit_distance(word1, word3)\n",
        "\n",
        "# Determine which word \"drive\" is closer to\n",
        "if distance_to_word2 < distance_to_word3:\n",
        "    closer_word = word2\n",
        "    closer_distance = distance_to_word2\n",
        "else:\n",
        "    closer_word = word3\n",
        "    closer_distance = distance_to_word3\n",
        "\n",
        "print(f\"Edit distance between '{word1}' and '{word2}': {distance_to_word2}\")\n",
        "print(f\"Edit distance between '{word1}' and '{word3}': {distance_to_word3}\")\n",
        "print(f\"'{word1}' is closer to '{closer_word}' with an edit distance of {closer_distance}\")\n"
      ],
      "metadata": {
        "colab": {
          "base_uri": "https://localhost:8080/"
        },
        "id": "0Nlsx_jav3l7",
        "outputId": "f3e822cb-90c6-4f38-8b1b-34488a6278bc"
      },
      "execution_count": null,
      "outputs": [
        {
          "output_type": "stream",
          "name": "stdout",
          "text": [
            "Edit distance between 'drive' and 'brief': 3\n",
            "Edit distance between 'drive' and 'divers': 3\n",
            "'drive' is closer to 'divers' with an edit distance of 3\n"
          ]
        }
      ]
    },
    {
      "cell_type": "markdown",
      "source": [
        "**QUESTION:**\n",
        "\n",
        "Implement a minimum edit distance algorithm and use your hand-computed results to check your code.\n",
        "\n",
        "str1 = \"leda\"\n",
        "str2 = \"deal\"\n",
        "\n",
        "distance = levenshtein_distance(str1, str2)\n",
        "\n",
        "print(f\"The edit distance between '{str1}' and '{str2}' is {distance}\")"
      ],
      "metadata": {
        "id": "WcMKhY2KpZHZ"
      }
    },
    {
      "cell_type": "markdown",
      "source": [
        "* The Levenshtein distance is a measure of the similarity between two strings.\n",
        "* It is defined as the minimum number of single-character edits (insertions, deletions, or substitutions) required to change one string into the other."
      ],
      "metadata": {
        "id": "Adm6L9CeJWmK"
      }
    },
    {
      "cell_type": "code",
      "source": [
        "def levenshtein_distance(str1, str2):\n",
        "    m, n = len(str1), len(str2)\n",
        "    # Create a distance matrix and initialize it\n",
        "    dp = [[0] * (n + 1) for _ in range(m + 1)]\n",
        "\n",
        "    # Initialize the base cases\n",
        "    for i in range(m + 1):\n",
        "        dp[i][0] = i\n",
        "    for j in range(n + 1):\n",
        "        dp[0][j] = j\n",
        "\n",
        "    # Fill the distance matrix\n",
        "    for i in range(1, m + 1):\n",
        "        for j in range(1, n + 1):\n",
        "            if str1[i - 1] == str2[j - 1]:\n",
        "                dp[i][j] = dp[i - 1][j - 1]\n",
        "            else:\n",
        "                dp[i][j] = 1 + min(dp[i - 1][j],      # Deletion\n",
        "                                   dp[i][j - 1],      # Insertion\n",
        "                                   dp[i - 1][j - 1])  # Substitution\n",
        "\n",
        "    return dp[m][n]\n",
        "\n",
        "# Example strings\n",
        "str1 = \"leda\"\n",
        "str2 = \"deal\"\n",
        "\n",
        "# Calculate the edit distance\n",
        "distance = levenshtein_distance(str1, str2)\n",
        "print(f\"The edit distance between '{str1}' and '{str2}' is {distance}\")\n"
      ],
      "metadata": {
        "colab": {
          "base_uri": "https://localhost:8080/"
        },
        "id": "6nDMkDZazt1_",
        "outputId": "42ef0c1a-a619-4b79-e9ae-c707497bc918"
      },
      "execution_count": null,
      "outputs": [
        {
          "output_type": "stream",
          "name": "stdout",
          "text": [
            "The edit distance between 'leda' and 'deal' is 3\n"
          ]
        }
      ]
    },
    {
      "cell_type": "markdown",
      "source": [
        "**QUESTION:**\n",
        "\n",
        "Implement Sequence Alignment\n",
        "Write a program to align the given sequence of input text A and B\n",
        "\n",
        "Input:\n",
        "Text A: AGGCTATCACCTGACCTCCAGGCCGATGCCC\n",
        "Text B: TAGCTATCACGACCGCGGTCGATTTGCCCGAC\n",
        "\n",
        "Output:\n",
        "-AGGCTATCACCTGACCTCCAGGCCGA--TGCCC---\n",
        "TAG-CTATCAC--GACCGC--GGTCGATTTGCCCGAC"
      ],
      "metadata": {
        "id": "TWV_5DmfrM6B"
      }
    },
    {
      "cell_type": "code",
      "source": [
        "def needleman_wunsch(seq1, seq2, match=1, mismatch=-1, gap=-2):\n",
        "    n = len(seq1)\n",
        "    m = len(seq2)\n",
        "\n",
        "    # Initialize score and traceback matrices\n",
        "    score = [[0 for _ in range(m+1)] for _ in range(n+1)]\n",
        "    traceback = [['' for _ in range(m+1)] for _ in range(n+1)]\n",
        "\n",
        "    # Initialize the scoring and traceback matrices\n",
        "    for i in range(1, n+1):\n",
        "        score[i][0] = score[i-1][0] + gap\n",
        "        traceback[i][0] = 'up'\n",
        "    for j in range(1, m+1):\n",
        "        score[0][j] = score[0][j-1] + gap\n",
        "        traceback[0][j] = 'left'\n",
        "\n",
        "    # Fill the score and traceback matrices\n",
        "    for i in range(1, n+1):\n",
        "        for j in range(1, m+1):\n",
        "            if seq1[i-1] == seq2[j-1]:\n",
        "                diag = score[i-1][j-1] + match\n",
        "            else:\n",
        "                diag = score[i-1][j-1] + mismatch\n",
        "            up = score[i-1][j] + gap\n",
        "            left = score[i][j-1] + gap\n",
        "            score[i][j] = max(diag, up, left)\n",
        "\n",
        "            if score[i][j] == diag:\n",
        "                traceback[i][j] = 'diag'\n",
        "            elif score[i][j] == up:\n",
        "                traceback[i][j] = 'up'\n",
        "            else:\n",
        "                traceback[i][j] = 'left'\n",
        "\n",
        "    # Traceback to get the alignment\n",
        "    align1 = \"\"\n",
        "    align2 = \"\"\n",
        "    i, j = n, m\n",
        "    while i > 0 or j > 0:\n",
        "        if traceback[i][j] == 'diag':\n",
        "            align1 = seq1[i-1] + align1\n",
        "            align2 = seq2[j-1] + align2\n",
        "            i -= 1\n",
        "            j -= 1\n",
        "        elif traceback[i][j] == 'up':\n",
        "            align1 = seq1[i-1] + align1\n",
        "            align2 = '-' + align2\n",
        "            i -= 1\n",
        "        elif traceback[i][j] == 'left':\n",
        "            align1 = '-' + align1\n",
        "            align2 = seq2[j-1] + align2\n",
        "            j -= 1\n",
        "\n",
        "    return align1, align2\n",
        "\n",
        "# Example usage\n",
        "seqA = \"AGGCTATCACCTGACCTCCAGGCCGATGCCC\"\n",
        "seqB = \"TAGCTATCACGACCGCGGTCGATTTGCCCGAC\"\n",
        "alignmentA, alignmentB = needleman_wunsch(seqA, seqB)\n",
        "\n",
        "print(\"Alignment A:\", alignmentA)\n",
        "print(\"Alignment B:\", alignmentB)\n"
      ],
      "metadata": {
        "colab": {
          "base_uri": "https://localhost:8080/"
        },
        "id": "9uZ3n9uL52D_",
        "outputId": "3d145fac-9b10-45f0-c963-7d4edef5c18b"
      },
      "execution_count": null,
      "outputs": [
        {
          "output_type": "stream",
          "name": "stdout",
          "text": [
            "Alignment A: AGGCTATCACCTGACCTCCAGGCCGA--TG-CC--C\n",
            "Alignment B: TAGCTATCA-C-GACC-GC-GGTCGATTTGCCCGAC\n"
          ]
        }
      ]
    }
  ]
}